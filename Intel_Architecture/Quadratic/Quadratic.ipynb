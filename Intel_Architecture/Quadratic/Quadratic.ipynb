{
 "cells": [
  {
   "cell_type": "code",
   "execution_count": null,
   "metadata": {},
   "outputs": [],
   "source": [
    "program quadratic\n",
    "! quadratic equation solver program\n",
    "\n",
    "! declare variables\n",
    "!     reals -> a, b, c, discriminant, root1, root2\n",
    "\n",
    "implicit none\n",
    "\n",
    "real :: a, b, c\n",
    "real :: discriminant, root1, root2\n",
    "\n",
    "! display initial header\n",
    "write (*,*) \"Quadratic Equation Solver Program\"\n",
    "write (*,*) \"Enter A, B, and C values\"\n",
    "\n",
    "! read the a, b, and c values\n",
    "! We comment out the following line because we are running this in a Jupyter Notebook.\n",
    "! read (*,*) a, b, c\n",
    "! We enter in the coefficients manually\n",
    "a = 1.0\n",
    "b = -2.0\n",
    "c = 4.0\n",
    "\n",
    "! Calculate the discriminant\n",
    "discriminant = b ** 2 - 4.0 * a * c\n",
    "\n",
    "! if discriminant is 0\n",
    "!     calculate and display root\n",
    "if ( discriminant == 0 ) then\n",
    "    root1 = -b / (2.0 * a)\n",
    "    write (*,*) \"This equation has one root:\"\n",
    "    write (*, advance = \"no\") \"root = \", root1\n",
    "end if\n",
    "\n",
    "! if discriminant is > 0\n",
    "!     calculate and display root1 and root2\n",
    "if ( discriminant > 0 ) then\n",
    "    root1 = ( -b + sqrt(discriminant)) / (2.0 * a)\n",
    "    root2 = ( -b - sqrt(discriminant)) / (2.0 * a)\n",
    "    write (*,*) \"This\""
   ]
  }
 ],
 "metadata": {
  "kernelspec": {
   "display_name": "gfortran",
   "language": "Fortran",
   "name": "gfort_spec"
  },
  "language_info": {
   "file_extension": "f90",
   "mimetype": "text/plain",
   "name": "fortran"
  }
 },
 "nbformat": 4,
 "nbformat_minor": 4
}
